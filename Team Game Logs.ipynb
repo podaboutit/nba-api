{
 "cells": [
  {
   "cell_type": "code",
   "execution_count": 1,
   "metadata": {},
   "outputs": [
    {
     "name": "stdout",
     "output_type": "stream",
     "text": [
      "╒═══╤════════════╤══════════════╤═════════════╤═══╤═══╤═══╤═════╤════╤════╤═══════╤════╤════╤═══════╤════╤════╤═══════╤════╤════╤════╤════╤════╤═══╤════╤════╤═════╕\n",
      "│ 0 │ 0022300077 │ OCT 27, 2023 │ CHA vs. DET │ L │ 1 │ 1 │ 0.5 │ 33 │ 88 │ 0.375 │  7 │ 28 │ 0.25  │ 26 │ 34 │ 0.765 │ 11 │ 30 │ 41 │ 20 │ 13 │ 7 │ 18 │ 23 │  99 │\n",
      "├───┼────────────┼──────────────┼─────────────┼───┼───┼───┼─────┼────┼────┼───────┼────┼────┼───────┼────┼────┼───────┼────┼────┼────┼────┼────┼───┼────┼────┼─────┤\n",
      "│ 1 │ 0022300063 │ OCT 25, 2023 │ CHA vs. ATL │ W │ 1 │ 0 │ 1   │ 43 │ 86 │ 0.5   │ 11 │ 37 │ 0.297 │ 19 │ 26 │ 0.731 │ 12 │ 39 │ 51 │ 34 │  5 │ 3 │ 19 │ 21 │ 116 │\n",
      "╘═══╧════════════╧══════════════╧═════════════╧═══╧═══╧═══╧═════╧════╧════╧═══════╧════╧════╧═══════╧════╧════╧═══════╧════╧════╧════╧════╧════╧═══╧════╧════╧═════╛\n"
     ]
    }
   ],
   "source": [
    "#2023-24 HORNETS GAME LOG\n",
    "\n",
    "from nba_api.stats.endpoints import teamgamelog  # Import the teamgamelog endpoint from the NBA API package\n",
    "from tabulate import tabulate  # Import the tabulate package to print the data in a table\n",
    "\n",
    "#define the team ID of the Charlotte Hornets\n",
    "team_id = \"1610612766\" \n",
    "season = \"2023-24\"  # Define the season\n",
    "team_gamelog = teamgamelog.TeamGameLog(team_id=team_id, season=season)  # Fetch game log for the specified team and season\n",
    "\n",
    "game_log = team_gamelog.get_data_frames()[0]  # Get a DataFrame containing Charlotte Hornets' game log\n",
    "\n",
    "#remove Team_ID column\n",
    "game_log = game_log.drop(columns=[\"Team_ID\"])\n",
    "game_log = game_log.drop(columns=[\"MIN\"])\n",
    "\n",
    "print(tabulate(game_log, tablefmt=\"fancy_grid\"))\n",
    "\n"
   ]
  },
  {
   "cell_type": "code",
   "execution_count": null,
   "metadata": {},
   "outputs": [],
   "source": [
    "#2023-24 HORNETS GAME LOG\n",
    "\n",
    "from nba_api.stats.endpoints import teamgamelog  # Import the teamgamelog endpoint from the NBA API package\n",
    "from tabulate import tabulate  # Import the tabulate package to print the data in a table\n",
    "\n",
    "team_id = 1610612766  # Define the team ID for Charlotte Hornets\n",
    "season = \"2023-24\"  # Define the season\n",
    "team_gamelog = teamgamelog.TeamGameLog(team_id=team_id, season=season)  # Fetch game log for the specified team and season\n",
    "\n",
    "game_log = team_gamelog.get_data_frames()[0]  # Get a DataFrame containing Charlotte Hornets' game log\n",
    "\n",
    "#remove Team_ID column\n",
    "game_log = game_log.drop(columns=[\"Team_ID\"])\n",
    "game_log = game_log.drop(columns=[\"MIN\"])\n",
    "\n",
    "\n",
    "filtered_game_log = game_log[game_log[\"FT_PCT\"] >= 0]\n",
    "filtered_game_log.to_csv('gamelogs/gamelog_hornets_' + season + '.csv', index=False)\n",
    "\n",
    "print(tabulate(filtered_game_log, headers=filtered_game_log.columns, tablefmt=\"fancy_grid\"))"
   ]
  }
 ],
 "metadata": {
  "kernelspec": {
   "display_name": "Python 3",
   "language": "python",
   "name": "python3"
  },
  "language_info": {
   "codemirror_mode": {
    "name": "ipython",
    "version": 3
   },
   "file_extension": ".py",
   "mimetype": "text/x-python",
   "name": "python",
   "nbconvert_exporter": "python",
   "pygments_lexer": "ipython3",
   "version": "3.11.1"
  },
  "orig_nbformat": 4,
  "vscode": {
   "interpreter": {
    "hash": "aee8b7b246df8f9039afb4144a1f6fd8d2ca17a180786b69acc140d282b71a49"
   }
  }
 },
 "nbformat": 4,
 "nbformat_minor": 2
}
